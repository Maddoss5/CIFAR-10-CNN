{
 "cells": [
  {
   "cell_type": "code",
   "execution_count": 1,
   "id": "ab75918b-4657-4072-9ad1-8f1514929aab",
   "metadata": {},
   "outputs": [],
   "source": [
    "import torch\n",
    "import torch.nn as nn\n",
    "import torchvision\n",
    "import torchvision.transforms as transforms\n",
    "import matplotlib.pyplot as plt\n",
    "import torch.optim as optim\n",
    "import torch.nn.functional as F\n",
    "import torch.optim.lr_scheduler as lr_scheduler\n",
    "from PIL import Image"
   ]
  },
  {
   "cell_type": "code",
   "execution_count": null,
   "id": "0e082a09-21a2-447b-bd97-01d6b6f50f70",
   "metadata": {},
   "outputs": [],
   "source": []
  },
  {
   "cell_type": "code",
   "execution_count": 2,
   "id": "564efcb5-60d3-47a8-9434-7a0dd56bc0e4",
   "metadata": {},
   "outputs": [
    {
     "name": "stdout",
     "output_type": "stream",
     "text": [
      "Files already downloaded and verified\n",
      "Files already downloaded and verified\n"
     ]
    }
   ],
   "source": [
    "original_data = torchvision.datasets.CIFAR10(root='./data', train=True, download=True, transform=transforms.ToTensor())\n",
    "\n",
    "augmented_data = torchvision.datasets.CIFAR10(root='./data', train=True, download=True, transform=transforms.Compose([\n",
    "    transforms.RandomHorizontalFlip(),\n",
    "    transforms.RandomRotation(10),\n",
    "    transforms.RandomCrop(32, padding=4),\n",
    "    transforms.ToTensor(),\n",
    "    transforms.Normalize((0.4914, 0.4822, 0.4465), (0.247, 0.243, 0.261))\n",
    "]))\n",
    "\n",
    "\n",
    "combined_data = torch.utils.data.ConcatDataset([original_data, augmented_data])"
   ]
  },
  {
   "cell_type": "code",
   "execution_count": 3,
   "id": "262e52a1-524b-417f-bdda-d5324aaf36a1",
   "metadata": {},
   "outputs": [],
   "source": [
    "train_transform = transforms.Compose([\n",
    "    transforms.RandomHorizontalFlip(),  \n",
    "    transforms.RandomRotation(10),  \n",
    "    transforms.RandomCrop(32, padding=4),  \n",
    "    transforms.ToTensor(),  \n",
    "    transforms.Normalize((0.4914, 0.4822, 0.4465), (0.247, 0.243, 0.261))  \n",
    "])\n",
    "\n",
    "\n",
    "test_transform = transforms.Compose([\n",
    "    transforms.ToTensor(),\n",
    "    transforms.Normalize((0.4914, 0.4822, 0.4465), (0.247, 0.243, 0.261))\n",
    "])"
   ]
  },
  {
   "cell_type": "code",
   "execution_count": 4,
   "id": "49c3ba70-c64e-445d-b0c8-00669741fc52",
   "metadata": {},
   "outputs": [
    {
     "name": "stdout",
     "output_type": "stream",
     "text": [
      "Files already downloaded and verified\n"
     ]
    }
   ],
   "source": [
    "testset = torchvision.datasets.CIFAR10(root='./data', train=False, download=True,transform=test_transform)\n"
   ]
  },
  {
   "cell_type": "code",
   "execution_count": 5,
   "id": "fb8cbf80-b729-47ec-b775-79830553ef43",
   "metadata": {},
   "outputs": [
    {
     "data": {
      "text/plain": [
       "10000"
      ]
     },
     "execution_count": 5,
     "metadata": {},
     "output_type": "execute_result"
    }
   ],
   "source": [
    "len(testset)"
   ]
  },
  {
   "cell_type": "code",
   "execution_count": 6,
   "id": "92731119-a1a2-4149-b5b8-8abc2a8fb79e",
   "metadata": {},
   "outputs": [],
   "source": [
    "trainloader = torch.utils.data.DataLoader(combined_data, batch_size=128, shuffle=True)\n",
    "testloader = torch.utils.data.DataLoader(testset, batch_size=128, shuffle=False)"
   ]
  },
  {
   "cell_type": "code",
   "execution_count": 7,
   "id": "80aa5c28-fd36-41b2-94ec-d6d4fe6dbb75",
   "metadata": {},
   "outputs": [
    {
     "data": {
      "image/png": "[encoded data removed]",
      "text/plain": [
       "<Figure size 640x480 with 1 Axes>"
      ]
     },
     "metadata": {},
     "output_type": "display_data"
    }
   ],
   "source": [
    "image_tensor=augmented_data[30][0]\n",
    "image_np = image_tensor.permute(1, 2, 0).numpy()\n",
    "image_np = image_np.clip(0, 1)\n",
    "plt.imshow(image_np)\n",
    "plt.axis(\"off\") \n",
    "plt.show()"
   ]
  },
  {
   "cell_type": "code",
   "execution_count": 8,
   "id": "dd7e9042-64b4-4942-9aa8-2b264ad6cbaf",
   "metadata": {},
   "outputs": [
    {
     "data": {
      "image/png": "[encoded data removed]",
      "text/plain": [
       "<Figure size 640x480 with 1 Axes>"
      ]
     },
     "metadata": {},
     "output_type": "display_data"
    }
   ],
   "source": [
    "image_tensor=original_data[30][0]\n",
    "image_np = image_tensor.permute(1, 2, 0).numpy()\n",
    "image_np = image_np.clip(0, 1)\n",
    "plt.imshow(image_np)\n",
    "plt.axis(\"off\") \n",
    "plt.show()"
   ]
  },
  {
   "cell_type": "code",
   "execution_count": 9,
   "id": "479525d1-0ac1-4e96-8161-72bf423eccc2",
   "metadata": {},
   "outputs": [],
   "source": [
    "class Net(nn.Module):\n",
    "    def __init__(self):\n",
    "        super().__init__()\n",
    "        self.conv1 = nn.Conv2d(3, 64, 3, padding=1)\n",
    "        self.conv2 = nn.Conv2d(64, 128, 3, padding=1)\n",
    "        self.conv3 = nn.Conv2d(128, 256, 3, padding=1)\n",
    "        \n",
    "        self.pool = nn.MaxPool2d(2, 2)\n",
    "        \n",
    "        self.fc1 = nn.Linear(256 * 4 * 4, 512)\n",
    "        self.fc2 = nn.Linear(512, 256)\n",
    "        self.fc3 = nn.Linear(256, 128)  \n",
    "        self.fc4 = nn.Linear(128, 64)   \n",
    "        self.fc5 = nn.Linear(64, 10)    \n",
    "        \n",
    "        self.batchnorm1 = nn.BatchNorm2d(64)\n",
    "        self.batchnorm2 = nn.BatchNorm2d(128)\n",
    "        self.batchnorm3 = nn.BatchNorm2d(256)\n",
    "\n",
    "    def forward(self, x):\n",
    "        x = self.pool(F.relu(self.batchnorm1(self.conv1(x))))\n",
    "        x = self.pool(F.relu(self.batchnorm2(self.conv2(x))))\n",
    "        x = self.pool(F.relu(self.batchnorm3(self.conv3(x))))\n",
    "        \n",
    "        x = torch.flatten(x, 1)  \n",
    "        \n",
    "        x = F.relu(self.fc1(x))\n",
    "        x = F.dropout(x, 0.5)  \n",
    "        x = F.relu(self.fc2(x))\n",
    "        x = F.dropout(x, 0.3)\n",
    "        x = F.relu(self.fc3(x))  \n",
    "        x = F.relu(self.fc4(x))  \n",
    "        x = self.fc5(x)  \n",
    "        return x"
   ]
  },
  {
   "cell_type": "code",
   "execution_count": 10,
   "id": "8e4f9885-4b59-4775-b206-a7f9b37f8307",
   "metadata": {},
   "outputs": [],
   "source": [
    "net=Net()"
   ]
  },
  {
   "cell_type": "code",
   "execution_count": 11,
   "id": "a26109ae-5a2d-4977-8828-ca63b083b6bc",
   "metadata": {},
   "outputs": [],
   "source": [
    "criterion = nn.CrossEntropyLoss()\n",
    "optimizer = optim.Adam(net.parameters(), lr=0.001, weight_decay=1e-4)"
   ]
  },
  {
   "cell_type": "code",
   "execution_count": 12,
   "id": "832fa297-a781-44e6-a5d5-b99991120456",
   "metadata": {},
   "outputs": [
    {
     "name": "stdout",
     "output_type": "stream",
     "text": [
      "cuda:0\n"
     ]
    }
   ],
   "source": [
    "device = torch.device('cuda:0' if torch.cuda.is_available() else 'cpu')\n",
    "print(device)"
   ]
  },
  {
   "cell_type": "code",
   "execution_count": 13,
   "id": "c91da92e-f1e4-4cdc-aa77-7772fe1618f2",
   "metadata": {},
   "outputs": [
    {
     "data": {
      "text/plain": [
       "Net(\n",
       "  (conv1): Conv2d(3, 64, kernel_size=(3, 3), stride=(1, 1), padding=(1, 1))\n",
       "  (conv2): Conv2d(64, 128, kernel_size=(3, 3), stride=(1, 1), padding=(1, 1))\n",
       "  (conv3): Conv2d(128, 256, kernel_size=(3, 3), stride=(1, 1), padding=(1, 1))\n",
       "  (pool): MaxPool2d(kernel_size=2, stride=2, padding=0, dilation=1, ceil_mode=False)\n",
       "  (fc1): Linear(in_features=4096, out_features=512, bias=True)\n",
       "  (fc2): Linear(in_features=512, out_features=256, bias=True)\n",
       "  (fc3): Linear(in_features=256, out_features=128, bias=True)\n",
       "  (fc4): Linear(in_features=128, out_features=64, bias=True)\n",
       "  (fc5): Linear(in_features=64, out_features=10, bias=True)\n",
       "  (batchnorm1): BatchNorm2d(64, eps=1e-05, momentum=0.1, affine=True, track_running_stats=True)\n",
       "  (batchnorm2): BatchNorm2d(128, eps=1e-05, momentum=0.1, affine=True, track_running_stats=True)\n",
       "  (batchnorm3): BatchNorm2d(256, eps=1e-05, momentum=0.1, affine=True, track_running_stats=True)\n",
       ")"
      ]
     },
     "execution_count": 13,
     "metadata": {},
     "output_type": "execute_result"
    }
   ],
   "source": [
    "net.to(device)"
   ]
  },
  {
   "cell_type": "code",
   "execution_count": 14,
   "id": "fe3f7b16-47df-4f07-a0ee-fef1548eecca",
   "metadata": {},
   "outputs": [
    {
     "name": "stdout",
     "output_type": "stream",
     "text": [
      "Epoch [0], Loss: 1.6424\n",
      "Epoch [1], Loss: 1.2689\n",
      "Epoch [2], Loss: 1.0953\n",
      "Epoch [3], Loss: 0.9875\n",
      "Epoch [4], Loss: 0.8988\n",
      "Epoch [5], Loss: 0.8240\n",
      "Epoch [6], Loss: 0.7729\n",
      "Epoch [7], Loss: 0.7185\n",
      "Epoch [8], Loss: 0.6699\n",
      "Epoch [9], Loss: 0.6338\n",
      "Epoch [10], Loss: 0.6033\n",
      "Epoch [11], Loss: 0.5831\n",
      "Epoch [12], Loss: 0.5488\n",
      "Epoch [13], Loss: 0.5323\n",
      "Epoch [14], Loss: 0.5145\n",
      "Epoch [15], Loss: 0.4928\n",
      "Epoch [16], Loss: 0.4760\n",
      "Epoch [17], Loss: 0.4690\n",
      "Epoch [18], Loss: 0.4561\n",
      "Epoch [19], Loss: 0.4430\n",
      "Epoch [20], Loss: 0.4259\n",
      "Epoch [21], Loss: 0.4167\n",
      "Epoch [22], Loss: 0.4128\n",
      "Epoch [23], Loss: 0.4035\n",
      "Epoch [24], Loss: 0.3910\n",
      "Epoch [25], Loss: 0.3882\n",
      "Epoch [26], Loss: 0.3846\n",
      "Epoch [27], Loss: 0.3774\n",
      "Epoch [28], Loss: 0.3757\n",
      "Epoch [29], Loss: 0.3648\n",
      "Epoch [30], Loss: 0.3618\n",
      "Epoch [31], Loss: 0.3604\n",
      "Epoch [32], Loss: 0.3530\n",
      "Epoch [33], Loss: 0.3459\n",
      "Epoch [34], Loss: 0.3426\n",
      "Epoch [35], Loss: 0.3391\n",
      "Epoch [36], Loss: 0.3349\n",
      "Epoch [37], Loss: 0.3353\n",
      "Epoch [38], Loss: 0.3347\n",
      "Epoch [39], Loss: 0.3276\n",
      "Epoch [40], Loss: 0.3265\n",
      "Epoch [41], Loss: 0.3253\n",
      "Epoch [42], Loss: 0.3198\n",
      "Epoch [43], Loss: 0.3208\n",
      "Epoch [44], Loss: 0.3185\n",
      "Epoch [45], Loss: 0.3180\n",
      "Epoch [46], Loss: 0.3144\n",
      "Epoch [47], Loss: 0.3077\n",
      "Epoch [48], Loss: 0.3096\n",
      "Epoch [49], Loss: 0.3120\n",
      "Epoch [50], Loss: 0.3020\n",
      "Epoch [51], Loss: 0.3083\n",
      "Epoch [52], Loss: 0.3008\n",
      "Epoch [53], Loss: 0.3018\n",
      "Epoch [54], Loss: 0.3000\n",
      "Epoch [55], Loss: 0.2942\n",
      "Epoch [56], Loss: 0.2996\n",
      "Epoch [57], Loss: 0.2957\n",
      "Epoch [58], Loss: 0.2954\n",
      "Epoch [59], Loss: 0.2921\n",
      "Epoch [60], Loss: 0.2948\n",
      "Epoch [61], Loss: 0.2922\n",
      "Epoch [62], Loss: 0.2932\n",
      "Epoch [63], Loss: 0.2930\n",
      "Epoch [64], Loss: 0.2845\n",
      "Epoch [65], Loss: 0.2873\n",
      "Epoch [66], Loss: 0.2867\n",
      "Epoch [67], Loss: 0.2841\n",
      "Epoch [68], Loss: 0.2855\n",
      "Epoch [69], Loss: 0.2836\n",
      "Epoch [70], Loss: 0.2820\n",
      "Epoch [71], Loss: 0.2835\n",
      "Epoch [72], Loss: 0.2783\n",
      "Epoch [73], Loss: 0.2850\n",
      "Epoch [74], Loss: 0.2829\n",
      "Epoch [75], Loss: 0.2782\n",
      "Epoch [76], Loss: 0.2773\n",
      "Epoch [77], Loss: 0.2780\n",
      "Epoch [78], Loss: 0.2732\n",
      "Epoch [79], Loss: 0.2754\n",
      "Epoch [80], Loss: 0.2799\n",
      "Epoch [81], Loss: 0.2751\n",
      "Epoch [82], Loss: 0.2711\n",
      "Epoch [83], Loss: 0.2757\n",
      "Epoch [84], Loss: 0.2726\n",
      "Epoch [85], Loss: 0.2684\n",
      "Epoch [86], Loss: 0.2674\n",
      "Epoch [87], Loss: 0.2691\n",
      "Epoch [88], Loss: 0.2712\n",
      "Epoch [89], Loss: 0.2657\n",
      "Epoch [90], Loss: 0.2703\n",
      "Epoch [91], Loss: 0.2711\n",
      "Epoch [92], Loss: 0.2621\n",
      "Epoch [93], Loss: 0.2653\n",
      "Epoch [94], Loss: 0.2664\n",
      "Epoch [95], Loss: 0.2665\n",
      "Epoch [96], Loss: 0.2663\n",
      "Epoch [97], Loss: 0.2642\n",
      "Epoch [98], Loss: 0.2611\n",
      "Epoch [99], Loss: 0.2634\n"
     ]
    }
   ],
   "source": [
    "for epoch in range(100):\n",
    "    net.train()\n",
    "    running_loss = 0.0\n",
    "    for i,(images, labels) in enumerate(trainloader):\n",
    "        images=images.cuda()\n",
    "        labels=labels.cuda()\n",
    "        outputs = net(images)\n",
    "        optimizer.zero_grad()\n",
    "        loss = criterion(outputs, labels)\n",
    "        loss.backward()\n",
    "        optimizer.step()\n",
    "\n",
    "        running_loss += loss.item()\n",
    "\n",
    "    print(f\"Epoch [{epoch}], Loss: {running_loss/len(trainloader):.4f}\")"
   ]
  },
  {
   "cell_type": "code",
   "execution_count": 19,
   "id": "253b5998-4768-4389-8987-e3f263b090ad",
   "metadata": {},
   "outputs": [
    {
     "name": "stdout",
     "output_type": "stream",
     "text": [
      "Net accuracy for test images: 83 %\n"
     ]
    }
   ],
   "source": [
    "correct = 0\n",
    "total = 0\n",
    "with torch.no_grad():\n",
    "    for data in testloader:\n",
    "        images, labels = data[0].to(device), data[1].to(device)\n",
    "        outputs = net(images)\n",
    "        _, predicted = torch.max(outputs, 1)\n",
    "        total += labels.size(0)\n",
    "        correct += (predicted == labels).sum().item()\n",
    "\n",
    "print(f'Net accuracy for test images: {100 * correct // total} %')"
   ]
  },
  {
   "cell_type": "code",
   "execution_count": null,
   "id": "94434d40-28c8-4cfa-a6fd-defe1cc521b0",
   "metadata": {},
   "outputs": [],
   "source": []
  }
 ],
 "metadata": {
  "kernelspec": {
   "display_name": "Python 3 (ipykernel)",
   "language": "python",
   "name": "python3"
  },
  "language_info": {
   "codemirror_mode": {
    "name": "ipython",
    "version": 3
   },
   "file_extension": ".py",
   "mimetype": "text/x-python",
   "name": "python",
   "nbconvert_exporter": "python",
   "pygments_lexer": "ipython3",
   "version": "3.11.7"
  }
 },
 "nbformat": 4,
 "nbformat_minor": 5
}
